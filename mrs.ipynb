{
 "cells": [
  {
   "cell_type": "markdown",
   "id": "2e47e5b0",
   "metadata": {},
   "source": [
    "# Download Dataset"
   ]
  },
  {
   "cell_type": "code",
   "execution_count": 317,
   "id": "592e52d4",
   "metadata": {},
   "outputs": [
    {
     "name": "stdout",
     "output_type": "stream",
     "text": [
      "README.txt        genome-tags.csv   movies.csv        tags.csv\r\n",
      "genome-scores.csv links.csv         ratings.csv\r\n"
     ]
    }
   ],
   "source": [
    "# !wget http://files.grouplens.org/datasets/movielens/ml-25m.zip\n",
    "# !unzip ml-25m.zip\n",
    "!ls ml-25m"
   ]
  },
  {
   "cell_type": "markdown",
   "id": "e7eb3168",
   "metadata": {},
   "source": [
    "# Necessary Imports"
   ]
  },
  {
   "cell_type": "code",
   "execution_count": 318,
   "id": "cecd604e",
   "metadata": {},
   "outputs": [
    {
     "name": "stdout",
     "output_type": "stream",
     "text": [
      "Device:  cpu\n"
     ]
    }
   ],
   "source": [
    "import torch\n",
    "import torch.nn as nn\n",
    "from torch.utils.data import Dataset, DataLoader\n",
    "import torch.nn.functional as F\n",
    "\n",
    "import numpy as np\n",
    "import pandas as pd\n",
    "import argparse\n",
    "\n",
    "\n",
    "from sklearn.model_selection import train_test_split\n",
    "from tqdm import tqdm\n",
    "from datetime import datetime\n",
    "\n",
    "import matplotlib.pyplot as plt\n",
    "%matplotlib inline\n",
    "\n",
    "# Set device = CUDA if available\n",
    "device = 'cuda' if torch.cuda.is_available() else 'cpu'\n",
    "print('Device: ', device)"
   ]
  },
  {
   "cell_type": "markdown",
   "id": "72377784",
   "metadata": {},
   "source": [
    "# Hyper-Parameters"
   ]
  },
  {
   "cell_type": "code",
   "execution_count": 319,
   "id": "f70f509a",
   "metadata": {},
   "outputs": [
    {
     "name": "stdout",
     "output_type": "stream",
     "text": [
      "Namespace(EPOCHS=5, BATCH_SIZE=512, EMBED_DIM=10, OPTIMIZER='Adam', LOSS_FN='MSELoss', LEARNING_RATE=0.001)\n"
     ]
    }
   ],
   "source": [
    "argument_parser = argparse.ArgumentParser()\n",
    "argument_parser.add_argument(\"--epochs\", dest = \"EPOCHS\", type = int, default = 5)\n",
    "argument_parser.add_argument(\"--batch_size\", dest = \"BATCH_SIZE\", type = int, default = 512)\n",
    "argument_parser.add_argument(\"--embed_dim\", dest = \"EMBED_DIM\", type = int, default = 10)\n",
    "argument_parser.add_argument(\"--optimizer\", dest = \"OPTIMIZER\", type = str, default = 'Adam')\n",
    "argument_parser.add_argument(\"--loss_fn\", dest = \"LOSS_FN\", type = str, default = 'MSELoss')\n",
    "argument_parser.add_argument(\"--learning_rate\", dest = \"LEARNING_RATE\", type = float, default =  1e-3)\n",
    "arguments, unknown = argument_parser.parse_known_args()\n",
    "print(arguments)"
   ]
  },
  {
   "cell_type": "markdown",
   "id": "f73ed792",
   "metadata": {},
   "source": [
    "# Ratings DataFrame in Triple Format ---> (user_id, movie_id, rating)"
   ]
  },
  {
   "cell_type": "code",
   "execution_count": 320,
   "id": "a1422184",
   "metadata": {},
   "outputs": [
    {
     "data": {
      "text/html": [
       "<div>\n",
       "<style scoped>\n",
       "    .dataframe tbody tr th:only-of-type {\n",
       "        vertical-align: middle;\n",
       "    }\n",
       "\n",
       "    .dataframe tbody tr th {\n",
       "        vertical-align: top;\n",
       "    }\n",
       "\n",
       "    .dataframe thead th {\n",
       "        text-align: right;\n",
       "    }\n",
       "</style>\n",
       "<table border=\"1\" class=\"dataframe\">\n",
       "  <thead>\n",
       "    <tr style=\"text-align: right;\">\n",
       "      <th></th>\n",
       "      <th>rating</th>\n",
       "      <th>user_id</th>\n",
       "      <th>movie_id</th>\n",
       "    </tr>\n",
       "  </thead>\n",
       "  <tbody>\n",
       "    <tr>\n",
       "      <th>0</th>\n",
       "      <td>2.5</td>\n",
       "      <td>0</td>\n",
       "      <td>292</td>\n",
       "    </tr>\n",
       "    <tr>\n",
       "      <th>1</th>\n",
       "      <td>1.0</td>\n",
       "      <td>0</td>\n",
       "      <td>302</td>\n",
       "    </tr>\n",
       "    <tr>\n",
       "      <th>2</th>\n",
       "      <td>2.5</td>\n",
       "      <td>0</td>\n",
       "      <td>303</td>\n",
       "    </tr>\n",
       "    <tr>\n",
       "      <th>3</th>\n",
       "      <td>2.5</td>\n",
       "      <td>0</td>\n",
       "      <td>654</td>\n",
       "    </tr>\n",
       "    <tr>\n",
       "      <th>4</th>\n",
       "      <td>1.0</td>\n",
       "      <td>0</td>\n",
       "      <td>878</td>\n",
       "    </tr>\n",
       "    <tr>\n",
       "      <th>5</th>\n",
       "      <td>1.5</td>\n",
       "      <td>0</td>\n",
       "      <td>1061</td>\n",
       "    </tr>\n",
       "    <tr>\n",
       "      <th>6</th>\n",
       "      <td>1.0</td>\n",
       "      <td>0</td>\n",
       "      <td>1147</td>\n",
       "    </tr>\n",
       "    <tr>\n",
       "      <th>7</th>\n",
       "      <td>1.0</td>\n",
       "      <td>0</td>\n",
       "      <td>1186</td>\n",
       "    </tr>\n",
       "    <tr>\n",
       "      <th>8</th>\n",
       "      <td>2.5</td>\n",
       "      <td>0</td>\n",
       "      <td>1205</td>\n",
       "    </tr>\n",
       "    <tr>\n",
       "      <th>9</th>\n",
       "      <td>1.5</td>\n",
       "      <td>0</td>\n",
       "      <td>1217</td>\n",
       "    </tr>\n",
       "  </tbody>\n",
       "</table>\n",
       "</div>"
      ],
      "text/plain": [
       "   rating  user_id  movie_id\n",
       "0     2.5        0       292\n",
       "1     1.0        0       302\n",
       "2     2.5        0       303\n",
       "3     2.5        0       654\n",
       "4     1.0        0       878\n",
       "5     1.5        0      1061\n",
       "6     1.0        0      1147\n",
       "7     1.0        0      1186\n",
       "8     2.5        0      1205\n",
       "9     1.5        0      1217"
      ]
     },
     "execution_count": 320,
     "metadata": {},
     "output_type": "execute_result"
    }
   ],
   "source": [
    "df = pd.read_csv('ml-25m/ratings.csv')\n",
    "\n",
    "# Making UserId starts from 0 to N-1\n",
    "df.userId = pd.Categorical(df.userId)\n",
    "df['user_id'] = df.userId.cat.codes\n",
    "\n",
    "# Making MovieId starts from 0 to N-1\n",
    "df.movieId = pd.Categorical(df.movieId)\n",
    "df['movie_id'] = df.movieId.cat.codes\n",
    "\n",
    "# Standaridize (Centre) the Ratings\n",
    "df['rating'] = df['rating'] - 2.5\n",
    "df.drop(df.columns[[0, 1, 3]], \n",
    "        axis = 1, \n",
    "        inplace = True)\n",
    "df.head(10)"
   ]
  },
  {
   "cell_type": "markdown",
   "id": "522f9ce3",
   "metadata": {},
   "source": [
    "# Movies DataFrame"
   ]
  },
  {
   "cell_type": "code",
   "execution_count": 321,
   "id": "bcb77442",
   "metadata": {},
   "outputs": [
    {
     "data": {
      "text/html": [
       "<div>\n",
       "<style scoped>\n",
       "    .dataframe tbody tr th:only-of-type {\n",
       "        vertical-align: middle;\n",
       "    }\n",
       "\n",
       "    .dataframe tbody tr th {\n",
       "        vertical-align: top;\n",
       "    }\n",
       "\n",
       "    .dataframe thead th {\n",
       "        text-align: right;\n",
       "    }\n",
       "</style>\n",
       "<table border=\"1\" class=\"dataframe\">\n",
       "  <thead>\n",
       "    <tr style=\"text-align: right;\">\n",
       "      <th></th>\n",
       "      <th>title</th>\n",
       "      <th>movie_id</th>\n",
       "    </tr>\n",
       "  </thead>\n",
       "  <tbody>\n",
       "    <tr>\n",
       "      <th>0</th>\n",
       "      <td>Toy Story (1995)</td>\n",
       "      <td>0</td>\n",
       "    </tr>\n",
       "    <tr>\n",
       "      <th>1</th>\n",
       "      <td>Jumanji (1995)</td>\n",
       "      <td>1</td>\n",
       "    </tr>\n",
       "    <tr>\n",
       "      <th>2</th>\n",
       "      <td>Grumpier Old Men (1995)</td>\n",
       "      <td>2</td>\n",
       "    </tr>\n",
       "    <tr>\n",
       "      <th>3</th>\n",
       "      <td>Waiting to Exhale (1995)</td>\n",
       "      <td>3</td>\n",
       "    </tr>\n",
       "    <tr>\n",
       "      <th>4</th>\n",
       "      <td>Father of the Bride Part II (1995)</td>\n",
       "      <td>4</td>\n",
       "    </tr>\n",
       "    <tr>\n",
       "      <th>5</th>\n",
       "      <td>Heat (1995)</td>\n",
       "      <td>5</td>\n",
       "    </tr>\n",
       "    <tr>\n",
       "      <th>6</th>\n",
       "      <td>Sabrina (1995)</td>\n",
       "      <td>6</td>\n",
       "    </tr>\n",
       "    <tr>\n",
       "      <th>7</th>\n",
       "      <td>Tom and Huck (1995)</td>\n",
       "      <td>7</td>\n",
       "    </tr>\n",
       "    <tr>\n",
       "      <th>8</th>\n",
       "      <td>Sudden Death (1995)</td>\n",
       "      <td>8</td>\n",
       "    </tr>\n",
       "    <tr>\n",
       "      <th>9</th>\n",
       "      <td>GoldenEye (1995)</td>\n",
       "      <td>9</td>\n",
       "    </tr>\n",
       "  </tbody>\n",
       "</table>\n",
       "</div>"
      ],
      "text/plain": [
       "                                title  movie_id\n",
       "0                    Toy Story (1995)         0\n",
       "1                      Jumanji (1995)         1\n",
       "2             Grumpier Old Men (1995)         2\n",
       "3            Waiting to Exhale (1995)         3\n",
       "4  Father of the Bride Part II (1995)         4\n",
       "5                         Heat (1995)         5\n",
       "6                      Sabrina (1995)         6\n",
       "7                 Tom and Huck (1995)         7\n",
       "8                 Sudden Death (1995)         8\n",
       "9                    GoldenEye (1995)         9"
      ]
     },
     "execution_count": 321,
     "metadata": {},
     "output_type": "execute_result"
    }
   ],
   "source": [
    "movies_df = pd.read_csv('ml-25m/movies.csv')\n",
    "\n",
    "# Making MovieId starts from 0 to N-1\n",
    "movies_df.movieId = pd.Categorical(movies_df.movieId)\n",
    "movies_df['movie_id'] = movies_df.movieId.cat.codes\n",
    "movies_df.drop(movies_df.columns[[0, 2]], \n",
    "               axis = 1, \n",
    "               inplace = True)\n",
    "movies_df.head(10)"
   ]
  },
  {
   "cell_type": "markdown",
   "id": "5f9d9de0",
   "metadata": {},
   "source": [
    "# Get no. of users and no. of movies"
   ]
  },
  {
   "cell_type": "code",
   "execution_count": 322,
   "id": "fb4ae56e",
   "metadata": {},
   "outputs": [
    {
     "name": "stdout",
     "output_type": "stream",
     "text": [
      "Number of Users:  162541\n",
      "Number of Movies:  59047\n"
     ]
    }
   ],
   "source": [
    "N = len(df['user_id'].unique())\n",
    "M = len(df['movie_id'].unique())\n",
    "\n",
    "print('Number of Users: ', N)\n",
    "print('Number of Movies: ', M)"
   ]
  },
  {
   "cell_type": "markdown",
   "id": "d2b4187b",
   "metadata": {},
   "source": [
    "# Splitting the Dataset into the Training set and Test set"
   ]
  },
  {
   "cell_type": "code",
   "execution_count": 323,
   "id": "e73f9465",
   "metadata": {},
   "outputs": [
    {
     "name": "stdout",
     "output_type": "stream",
     "text": [
      "Train Data Size:  18750071\n",
      "Test Data Size:  6250024\n"
     ]
    }
   ],
   "source": [
    "train_data, test_data = train_test_split(df,\n",
    "                                        random_state = 32, \n",
    "                                        test_size = 0.25, \n",
    "                                        shuffle = True)\n",
    "\n",
    "print('Train Data Size: ', len(train_data))\n",
    "print('Test Data Size: ', len(test_data))"
   ]
  },
  {
   "cell_type": "markdown",
   "id": "26e1dfb3",
   "metadata": {},
   "source": [
    "# Dataset Class"
   ]
  },
  {
   "cell_type": "code",
   "execution_count": 324,
   "id": "2231ab9c",
   "metadata": {},
   "outputs": [],
   "source": [
    "class MovieRecommendationDataset(Dataset):\n",
    "    def __init__(self, \n",
    "                 df: pd.DataFrame):\n",
    "        self.u_ids = torch.from_numpy(df['user_id'].values).long()\n",
    "        self.m_ids = torch.from_numpy(df['movie_id'].values).long()\n",
    "        self.ratings = torch.from_numpy(df['rating'].values)\n",
    "        \n",
    "    def __len__(self):\n",
    "        return len(self.u_ids)\n",
    "    \n",
    "    def __getitem__(self, \n",
    "                    idx: int):\n",
    "        return self.u_ids[idx], self.m_ids[idx], self.ratings[idx]"
   ]
  },
  {
   "cell_type": "markdown",
   "id": "815424ef",
   "metadata": {},
   "source": [
    "# Dataset Objects for DataLoader"
   ]
  },
  {
   "cell_type": "code",
   "execution_count": 325,
   "id": "e471f98f",
   "metadata": {},
   "outputs": [
    {
     "name": "stdout",
     "output_type": "stream",
     "text": [
      "(tensor(5709), tensor(19832), tensor(1.5000, dtype=torch.float64))\n",
      "(tensor(116264), tensor(1167), tensor(0.5000, dtype=torch.float64))\n"
     ]
    }
   ],
   "source": [
    "# Train Dataset Object\n",
    "train_ds = MovieRecommendationDataset(train_data)\n",
    "print(train_ds[0])\n",
    "\n",
    "# Test Dataset Object\n",
    "test_ds = MovieRecommendationDataset(test_data)\n",
    "print(test_ds[0])"
   ]
  },
  {
   "cell_type": "markdown",
   "id": "17d27845",
   "metadata": {},
   "source": [
    "# Pytorch Data Loaders"
   ]
  },
  {
   "cell_type": "code",
   "execution_count": 326,
   "id": "3ee19ad6",
   "metadata": {},
   "outputs": [],
   "source": [
    "# Train Data Loader\n",
    "train_loader = DataLoader(train_ds, \n",
    "                          batch_size = arguments.BATCH_SIZE, \n",
    "                          shuffle = True)\n",
    "# Test Data Loader\n",
    "test_loader = DataLoader(test_ds, \n",
    "                        batch_size = arguments.BATCH_SIZE, \n",
    "                        shuffle = True)"
   ]
  },
  {
   "cell_type": "markdown",
   "id": "6eafc8ee",
   "metadata": {},
   "source": [
    "# Model"
   ]
  },
  {
   "cell_type": "code",
   "execution_count": 327,
   "id": "0843f7eb",
   "metadata": {},
   "outputs": [],
   "source": [
    "class Model(nn.Module):\n",
    "    def __init__(self, \n",
    "                 n_users, \n",
    "                 n_movies, \n",
    "                 embed_dim, \n",
    "                 n_hidden = 1024):\n",
    "        super().__init__()\n",
    "        self.U = n_users\n",
    "        self.M = n_movies\n",
    "        self.D = embed_dim\n",
    "        self.H = n_hidden\n",
    "        self.u_emb = nn.Embedding(self.U, self.D)\n",
    "        self.m_emb = nn.Embedding(self.M, self.D)\n",
    "        self.fc1 = nn.Linear(2 * self.D, self.H)\n",
    "        self.fc2 = nn.Linear(self.H, 1)\n",
    "        \n",
    "    def forward(self, \n",
    "                u, \n",
    "                m):\n",
    "        u = self.u_emb(u) # (Num_Samples, D)\n",
    "        m = self.m_emb(m) # (Num_Samples, D)\n",
    "        \n",
    "        out = torch.cat((u, m), 1) # (Num_Samples, 2D)\n",
    "        \n",
    "        out = self.fc1(out)\n",
    "        out = F.relu(out)\n",
    "        out = self.fc2(out)\n",
    "        return out"
   ]
  },
  {
   "cell_type": "code",
   "execution_count": 328,
   "id": "f9f7c000",
   "metadata": {},
   "outputs": [
    {
     "name": "stdout",
     "output_type": "stream",
     "text": [
      "Model:  Model(\n",
      "  (u_emb): Embedding(162541, 10)\n",
      "  (m_emb): Embedding(59047, 10)\n",
      "  (fc1): Linear(in_features=20, out_features=1024, bias=True)\n",
      "  (fc2): Linear(in_features=1024, out_features=1, bias=True)\n",
      ")\n"
     ]
    }
   ],
   "source": [
    "# Set Seed Value to make results reproducible\n",
    "torch.manual_seed(32)\n",
    "\n",
    "model = Model(N, \n",
    "              M, \n",
    "              arguments.EMBED_DIM)\n",
    "model.to(device)\n",
    "\n",
    "print('Model: ', model)"
   ]
  },
  {
   "cell_type": "code",
   "execution_count": 329,
   "id": "d2fd1103",
   "metadata": {},
   "outputs": [],
   "source": [
    "# Model Train Function\n",
    "def train(loader, \n",
    "          model, \n",
    "          optimizer, \n",
    "          loss_fn):\n",
    "    # Set model to train mode\n",
    "    model.train()\n",
    "    losses = []\n",
    "    pbar = tqdm(loader, desc = 'Training Loop', colour = 'green')\n",
    "    for users, movies, ratings in pbar:\n",
    "        ratings = ratings.view(-1, 1).float()\n",
    "        \n",
    "        # Move Data to GPU\n",
    "        users, movies, ratings = users.to(device), movies.to(device), ratings.to(device)\n",
    "        \n",
    "        # Zero the Parameter Gradients\n",
    "        optimizer.zero_grad()\n",
    "        \n",
    "        # Calculate ratings_pred\n",
    "        ratings_pred = model(users, movies)\n",
    "        \n",
    "        # Loss\n",
    "        loss = loss_fn(ratings_pred, ratings)\n",
    "        pbar.set_postfix({'Loss': loss.item()})\n",
    "        losses.append(loss.item())\n",
    "        \n",
    "        # Calculate gradients for w/b\n",
    "        loss.backward()  \n",
    "        # Update weights according to optimizer rules\n",
    "        optimizer.step()\n",
    "        \n",
    "    return round((sum(losses) / len(losses)), 4) # Return Average Loss\n",
    "\n",
    "# Model Test Function\n",
    "def test(loader, \n",
    "         model, \n",
    "         loss_fn):\n",
    "    # Set model to eval mode\n",
    "    model.eval()\n",
    "    losses = []\n",
    "    pbar = tqdm(loader, desc = 'Test Loop', colour = 'cyan')\n",
    "    for users, movies, ratings in pbar:\n",
    "        ratings = ratings.view(-1, 1).float()\n",
    "        \n",
    "        # Move Data to GPU\n",
    "        users, movies, ratings = users.to(device), movies.to(device), ratings.to(device)\n",
    "        \n",
    "        # Calculate ratings_pred\n",
    "        ratings_pred = model(users, movies)\n",
    "    \n",
    "        # Loss\n",
    "        loss = loss_fn(ratings_pred, ratings)\n",
    "        pbar.set_postfix({'Loss': loss.item()})\n",
    "        losses.append(loss.item())\n",
    "    \n",
    "    return round((sum(losses) / len(losses)), 4) # Return Average Loss"
   ]
  },
  {
   "cell_type": "markdown",
   "id": "050a64c5",
   "metadata": {},
   "source": [
    "# Model Training on Train dataset and Evaluation on Test dataset"
   ]
  },
  {
   "cell_type": "code",
   "execution_count": 330,
   "id": "da1eda2f",
   "metadata": {},
   "outputs": [
    {
     "name": "stderr",
     "output_type": "stream",
     "text": [
      "Training Loop: 100%|\u001b[32m██████████\u001b[0m| 36622/36622 [06:13<00:00, 98.10it/s, Loss=0.773]\u001b[0m\n",
      "Test Loop: 100%|\u001b[36m██████████████\u001b[0m| 12208/12208 [00:38<00:00, 313.77it/s, Loss=0.58]\u001b[0m\n"
     ]
    },
    {
     "name": "stdout",
     "output_type": "stream",
     "text": [
      "Epoch 1/5 --> Train Loss: 0.8208 | Val Loss: 0.753 | Duration: 0:06:52.220749\n"
     ]
    },
    {
     "name": "stderr",
     "output_type": "stream",
     "text": [
      "Training Loop: 100%|\u001b[32m██████████\u001b[0m| 36622/36622 [06:13<00:00, 98.10it/s, Loss=0.769]\u001b[0m\n",
      "Test Loop: 100%|\u001b[36m█████████████\u001b[0m| 12208/12208 [00:38<00:00, 315.77it/s, Loss=0.701]\u001b[0m\n"
     ]
    },
    {
     "name": "stdout",
     "output_type": "stream",
     "text": [
      "Epoch 2/5 --> Train Loss: 0.7375 | Val Loss: 0.7299 | Duration: 0:06:51.963327\n"
     ]
    },
    {
     "name": "stderr",
     "output_type": "stream",
     "text": [
      "Training Loop: 100%|\u001b[32m██████████\u001b[0m| 36622/36622 [06:14<00:00, 97.68it/s, Loss=0.724]\u001b[0m\n",
      "Test Loop: 100%|\u001b[36m█████████████\u001b[0m| 12208/12208 [00:40<00:00, 302.68it/s, Loss=0.671]\u001b[0m\n"
     ]
    },
    {
     "name": "stdout",
     "output_type": "stream",
     "text": [
      "Epoch 3/5 --> Train Loss: 0.7123 | Val Loss: 0.7108 | Duration: 0:06:55.243908\n"
     ]
    },
    {
     "name": "stderr",
     "output_type": "stream",
     "text": [
      "Training Loop: 100%|\u001b[32m██████████\u001b[0m| 36622/36622 [06:19<00:00, 96.43it/s, Loss=0.671]\u001b[0m\n",
      "Test Loop: 100%|\u001b[36m█████████████\u001b[0m| 12208/12208 [00:39<00:00, 308.67it/s, Loss=0.991]\u001b[0m\n"
     ]
    },
    {
     "name": "stdout",
     "output_type": "stream",
     "text": [
      "Epoch 4/5 --> Train Loss: 0.698 | Val Loss: 0.7033 | Duration: 0:06:59.318624\n"
     ]
    },
    {
     "name": "stderr",
     "output_type": "stream",
     "text": [
      "Training Loop: 100%|\u001b[32m█████████\u001b[0m| 36622/36622 [06:04<00:00, 100.37it/s, Loss=0.702]\u001b[0m\n",
      "Test Loop: 100%|\u001b[36m█████████████\u001b[0m| 12208/12208 [00:34<00:00, 354.71it/s, Loss=0.597]\u001b[0m\n"
     ]
    },
    {
     "name": "stdout",
     "output_type": "stream",
     "text": [
      "Epoch 5/5 --> Train Loss: 0.6916 | Val Loss: 0.7 | Duration: 0:06:39.277676\n"
     ]
    }
   ],
   "source": [
    "# Optimizer\n",
    "if arguments.OPTIMIZER == 'Adam':\n",
    "    optimizer = torch.optim.AdamW(model.parameters(),\n",
    "                                  lr = arguments.LEARNING_RATE)\n",
    "\n",
    "# Loss Function\n",
    "if arguments.LOSS_FN == 'MSELoss':\n",
    "    loss_fn = nn.MSELoss().to(device)\n",
    "    \n",
    "# Path to Save Best Model\n",
    "PATH = f'best-model.pt'\n",
    "\n",
    "train_loss_list = []\n",
    "test_loss_list = []\n",
    "\n",
    "for epoch in range(arguments.EPOCHS):\n",
    "    t0 = datetime.now()\n",
    "    \n",
    "    # Avg Training Loss\n",
    "    train_loss = train(train_loader, \n",
    "                       model, \n",
    "                       optimizer, \n",
    "                       loss_fn)\n",
    "    train_loss_list.append(train_loss)\n",
    "    \n",
    "    # Avg Val Loss\n",
    "    test_loss = test(test_loader, \n",
    "                     model, \n",
    "                     loss_fn)\n",
    "    test_loss_list.append(test_loss)\n",
    "    \n",
    "    dt = datetime.now() - t0\n",
    "    \n",
    "    print(\"Epoch {0}/{1} --> Train Loss: {2} | Val Loss: {3} | Duration: {4}\".format(epoch + 1, arguments.EPOCHS, train_loss, test_loss, dt))\n",
    "    \n",
    "# Save model\n",
    "torch.save(model.state_dict(), PATH)"
   ]
  },
  {
   "cell_type": "markdown",
   "id": "81364520",
   "metadata": {},
   "source": [
    "# Line Plot Comparison: Train vs Test Loss"
   ]
  },
  {
   "cell_type": "code",
   "execution_count": 336,
   "id": "f6ea4696",
   "metadata": {},
   "outputs": [
    {
     "data": {
      "image/png": "[encoded data removed]",
      "text/plain": [
       "<Figure size 640x480 with 1 Axes>"
      ]
     },
     "metadata": {},
     "output_type": "display_data"
    }
   ],
   "source": [
    "epochs = np.arange(arguments.EPOCHS) + 1\n",
    "\n",
    "def plot_line(line_A_vals, \n",
    "              line_B_vals, \n",
    "              line_A_label, \n",
    "              line_B_label, \n",
    "              xlabel, \n",
    "              ylabel, \n",
    "              title):\n",
    "    plt.style.use('ggplot')\n",
    "    plt.plot(epochs, line_A_vals, label = line_A_label, color = \"red\", linewidth = '3', )\n",
    "    plt.plot(epochs, line_B_vals, label = line_B_label, color = \"green\", linewidth = '3')\n",
    "    plt.xlabel(xlabel)\n",
    "    plt.xticks(epochs)\n",
    "    plt.ylabel(ylabel)\n",
    "    plt.title(title, color = 'black')\n",
    "    plt.legend(shadow = True)\n",
    "    plt.show()\n",
    "    \n",
    "# Training vs Test Loss Plot\n",
    "plot_line(train_loss_list, \n",
    "          test_loss_list, \n",
    "          'Training Loss', \n",
    "          'Test Loss', \n",
    "          'Epoch', \n",
    "          'Loss', \n",
    "          'Training Loss vs Test Loss')"
   ]
  },
  {
   "cell_type": "markdown",
   "id": "71483019",
   "metadata": {},
   "source": [
    "# Load the saved model"
   ]
  },
  {
   "cell_type": "code",
   "execution_count": 332,
   "id": "103b724d",
   "metadata": {},
   "outputs": [
    {
     "data": {
      "text/plain": [
       "Model(\n",
       "  (u_emb): Embedding(162541, 10)\n",
       "  (m_emb): Embedding(59047, 10)\n",
       "  (fc1): Linear(in_features=20, out_features=1024, bias=True)\n",
       "  (fc2): Linear(in_features=1024, out_features=1, bias=True)\n",
       ")"
      ]
     },
     "execution_count": 332,
     "metadata": {},
     "output_type": "execute_result"
    }
   ],
   "source": [
    "saved_model = Model(N, \n",
    "                    M, \n",
    "                    arguments.EMBED_DIM).to(device)\n",
    "\n",
    "saved_model.load_state_dict(torch.load(PATH))\n",
    "saved_model.eval()"
   ]
  },
  {
   "cell_type": "markdown",
   "id": "794a35b8",
   "metadata": {},
   "source": [
    "# Model Predict Function: Top 10 Recommendations for a User"
   ]
  },
  {
   "cell_type": "code",
   "execution_count": 340,
   "id": "c2c8d3b3",
   "metadata": {},
   "outputs": [
    {
     "name": "stdout",
     "output_type": "stream",
     "text": [
      "```````````````````````````````````````\n",
      "Top 5 Recommendations for User-0: \n",
      "```````````````````````````````````````\n",
      "Movie: Two Lottery Tickets (2016), Score: 2.1235005855560303\n",
      "Movie: Murder She Said (1961), Score: 2.102802276611328\n",
      "Movie: Rue de l'Estrapade (1953), Score: 2.065976142883301\n",
      "Movie: Hollywood Round-Up (1937), Score: 2.0595147609710693\n",
      "Movie: Eisenstein in Guanajuato (2015), Score: 2.031919002532959\n",
      "```````````````````````````````````````\n",
      "Top 5 Recommendations for User-1: \n",
      "```````````````````````````````````````\n",
      "Movie: Two Lottery Tickets (2016), Score: 2.249833822250366\n",
      "Movie: Rue de l'Estrapade (1953), Score: 2.1372132301330566\n",
      "Movie: Ave (2011), Score: 2.1085307598114014\n",
      "Movie: Hollywood Round-Up (1937), Score: 2.094742774963379\n",
      "Movie: Cabin in the Woods, The (2012), Score: 2.0097827911376953\n",
      "```````````````````````````````````````\n",
      "Top 5 Recommendations for User-2: \n",
      "```````````````````````````````````````\n",
      "Movie: Rue de l'Estrapade (1953), Score: 2.1324121952056885\n",
      "Movie: Dawg Fight (2015), Score: 2.123565435409546\n",
      "Movie: ¡Asu Mare! 2 (2015), Score: 2.1071395874023438\n",
      "Movie: Toutes les Filles sont Folles (2003), Score: 2.0915448665618896\n",
      "Movie: Moshe Kasher: Live in Oakland (2012), Score: 2.0362143516540527\n",
      "```````````````````````````````````````\n",
      "Top 5 Recommendations for User-3: \n",
      "```````````````````````````````````````\n",
      "Movie: Badman's Territory (1946), Score: 2.254650831222534\n",
      "Movie: Hollywood Round-Up (1937), Score: 2.201472282409668\n",
      "Movie: Rue de l'Estrapade (1953), Score: 2.1957459449768066\n",
      "Movie: Dawg Fight (2015), Score: 2.174863815307617\n",
      "Movie: A Horse for Danny (1995), Score: 2.1561551094055176\n",
      "```````````````````````````````````````\n",
      "Top 5 Recommendations for User-4: \n",
      "```````````````````````````````````````\n",
      "Movie: Hollywood Round-Up (1937), Score: 2.240091323852539\n",
      "Movie: Two Lottery Tickets (2016), Score: 2.1817591190338135\n",
      "Movie: Rue de l'Estrapade (1953), Score: 2.1248459815979004\n",
      "Movie: Dawg Fight (2015), Score: 2.102860689163208\n",
      "Movie: Ave (2011), Score: 2.0885088443756104\n",
      "```````````````````````````````````````\n",
      "Top 5 Recommendations for User-5: \n",
      "```````````````````````````````````````\n",
      "Movie: Two Lottery Tickets (2016), Score: 2.44427752494812\n",
      "Movie: Hollywood Round-Up (1937), Score: 2.4311695098876953\n",
      "Movie: Rue de l'Estrapade (1953), Score: 2.42661190032959\n",
      "Movie: Ave (2011), Score: 2.3205132484436035\n",
      "Movie: Murder She Said (1961), Score: 2.2490997314453125\n",
      "```````````````````````````````````````\n",
      "Top 5 Recommendations for User-6: \n",
      "```````````````````````````````````````\n",
      "Movie: Rue de l'Estrapade (1953), Score: 2.128779411315918\n",
      "Movie: Two Lottery Tickets (2016), Score: 2.097756862640381\n",
      "Movie: Hollywood Round-Up (1937), Score: 2.093827247619629\n",
      "Movie: Eisenstein in Guanajuato (2015), Score: 2.051976203918457\n",
      "Movie: Murder She Said (1961), Score: 2.030750274658203\n",
      "```````````````````````````````````````\n",
      "Top 5 Recommendations for User-7: \n",
      "```````````````````````````````````````\n",
      "Movie: Starship Apocalypse (2014), Score: 1.867370367050171\n",
      "Movie: He Who Must Die (1957), Score: 1.733548879623413\n",
      "Movie: New Wave (Nouvelle vague) (1990), Score: 1.7102051973342896\n",
      "Movie: Angel City (1977), Score: 1.691603183746338\n",
      "Movie: The Eddie Cantor Story (1953), Score: 1.687315821647644\n",
      "```````````````````````````````````````\n",
      "Top 5 Recommendations for User-8: \n",
      "```````````````````````````````````````\n",
      "Movie: Two Lottery Tickets (2016), Score: 2.0408687591552734\n",
      "Movie: Men of Honor (2000), Score: 1.9603362083435059\n",
      "Movie: When You're Strange (2009), Score: 1.940958023071289\n",
      "Movie: He Who Must Die (1957), Score: 1.9363856315612793\n",
      "Movie: The Eddie Cantor Story (1953), Score: 1.932572603225708\n",
      "```````````````````````````````````````\n",
      "Top 5 Recommendations for User-9: \n",
      "```````````````````````````````````````\n",
      "Movie: Two Lottery Tickets (2016), Score: 2.061643362045288\n",
      "Movie: Office (2015), Score: 1.959216594696045\n",
      "Movie: Rue de l'Estrapade (1953), Score: 1.9066609144210815\n",
      "Movie: Hollywood Round-Up (1937), Score: 1.893262505531311\n",
      "Movie: Ave (2011), Score: 1.8699302673339844\n"
     ]
    }
   ],
   "source": [
    "def predict(user_id):\n",
    "    # All Movie_ids watched by a User\n",
    "    watched_m_ids = df[df['user_id'] == 1].movie_id.values\n",
    "    \n",
    "    # All Movie_ids not watched by a User\n",
    "    potential_movie_ids = df[~df.movie_id.isin(watched_m_ids)].movie_id.unique()\n",
    "    \n",
    "    user_id_to_recommend = np.ones_like(potential_movie_ids) * user_id\n",
    "    \n",
    "    u_id_tensor = torch.from_numpy(user_id_to_recommend).long().to(device)\n",
    "    potential_movie_ids_tensor = torch.from_numpy(potential_movie_ids).long().to(device)\n",
    "    \n",
    "    # Predicted Ratings for all Unseen Movies\n",
    "    with torch.no_grad():\n",
    "        predictions = saved_model(u_id_tensor, potential_movie_ids_tensor)\n",
    "        \n",
    "    predictions_np = predictions.cpu().numpy().flatten()\n",
    "    \n",
    "    # Sort Indices of Predictions in Descending Order\n",
    "    sort_idx = np.argsort(-predictions_np)\n",
    "    \n",
    "    # Top 5 Recommendations\n",
    "    print('```````````````````````````````````````')\n",
    "    print('Top 5 Recommendations for User-{0}: '.format(user_id))\n",
    "    print('```````````````````````````````````````')\n",
    "    \n",
    "    top_5_m_ids = potential_movie_ids[sort_idx[:5]]\n",
    "    top_5_scores = predictions_np[sort_idx[:5]]\n",
    "    \n",
    "    for movie_id, score in zip(top_5_m_ids, top_5_scores):\n",
    "        movie = movies_df[movies_df['movie_id'] == movie_id].title.values[0]\n",
    "        print('Movie: {0}, Score: {1}'.format(movie, score))\n",
    "    \n",
    "# Top 5 Recommendations for first 10 Users\n",
    "for user in range(0, 10):    \n",
    "    predict(user)"
   ]
  }
 ],
 "metadata": {
  "kernelspec": {
   "display_name": "Python 3 (ipykernel)",
   "language": "python",
   "name": "python3"
  },
  "language_info": {
   "codemirror_mode": {
    "name": "ipython",
    "version": 3
   },
   "file_extension": ".py",
   "mimetype": "text/x-python",
   "name": "python",
   "nbconvert_exporter": "python",
   "pygments_lexer": "ipython3",
   "version": "3.10.8"
  }
 },
 "nbformat": 4,
 "nbformat_minor": 5
}
